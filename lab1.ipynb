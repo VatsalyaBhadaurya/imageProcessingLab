{
 "cells": [
  {
   "cell_type": "code",
   "execution_count": 17,
   "id": "c9bca1cd",
   "metadata": {},
   "outputs": [
    {
     "name": "stdout",
     "output_type": "stream",
     "text": [
      "JPEG\n"
     ]
    }
   ],
   "source": [
    "from PIL import Image\n",
    "\n",
    "\n",
    "# test.png => location_of_image\n",
    "img = Image.open(r\"C:\\Vatsalya\\GBU\\Study\\3rd sem\\imageProcessingLab\\image.jpg\")\n",
    "print(img.format)\n",
    "img.show()"
   ]
  },
  {
   "cell_type": "code",
   "execution_count": 18,
   "id": "6343b390",
   "metadata": {},
   "outputs": [
    {
     "data": {
      "text/plain": [
       "('L',)"
      ]
     },
     "execution_count": 18,
     "metadata": {},
     "output_type": "execute_result"
    }
   ],
   "source": [
    "filename = r\"C:\\Vatsalya\\GBU\\Study\\3rd sem\\imageProcessingLab\\image.jpg\"\n",
    "with Image.open(filename) as img:\n",
    "    img.load()\n",
    "\n",
    "\n",
    "cmyk_img = img.convert(\"CMYK\")\n",
    "gray_img = img.convert(\"L\")  # Grayscale\n",
    "\n",
    "cmyk_img.show()\n",
    "gray_img.show()\n",
    "\n",
    "img.getbands()\n",
    "('R', 'G', 'B')\n",
    "cmyk_img.getbands()\n",
    "('C', 'M', 'Y', 'K')\n",
    "gray_img.getbands()\n",
    "('L',)"
   ]
  }
 ],
 "metadata": {
  "kernelspec": {
   "display_name": "Python 3",
   "language": "python",
   "name": "python3"
  },
  "language_info": {
   "codemirror_mode": {
    "name": "ipython",
    "version": 3
   },
   "file_extension": ".py",
   "mimetype": "text/x-python",
   "name": "python",
   "nbconvert_exporter": "python",
   "pygments_lexer": "ipython3",
   "version": "3.10.11"
  }
 },
 "nbformat": 4,
 "nbformat_minor": 5
}
